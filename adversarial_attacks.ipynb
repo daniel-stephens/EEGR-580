{
  "cells": [
    {
      "cell_type": "markdown",
      "metadata": {
        "id": "ZT4o2K_RgT2E"
      },
      "source": [
        "### Adverserial Attacks"
      ]
    },
    {
      "cell_type": "markdown",
      "metadata": {
        "id": "Pn2LWDObgbE0"
      },
      "source": [
        "We are going to perform 2 attacks on a deep neural network classifier. The attacks FGSM attacks and PGD_attacks"
      ]
    },
    {
      "cell_type": "code",
      "execution_count": 1,
      "metadata": {
        "id": "ERPAeYzpgEYR"
      },
      "outputs": [
        {
          "ename": "ModuleNotFoundError",
          "evalue": "No module named 'matplotlib'",
          "output_type": "error",
          "traceback": [
            "\u001b[0;31m---------------------------------------------------------------------------\u001b[0m",
            "\u001b[0;31mModuleNotFoundError\u001b[0m                       Traceback (most recent call last)",
            "Cell \u001b[0;32mIn[1], line 7\u001b[0m\n\u001b[1;32m      5\u001b[0m \u001b[39mfrom\u001b[39;00m \u001b[39mtensorflow\u001b[39;00m \u001b[39mimport\u001b[39;00m keras\n\u001b[1;32m      6\u001b[0m \u001b[39mfrom\u001b[39;00m \u001b[39mtensorflow\u001b[39;00m\u001b[39m.\u001b[39;00m\u001b[39mkeras\u001b[39;00m\u001b[39m.\u001b[39;00m\u001b[39mdatasets\u001b[39;00m \u001b[39mimport\u001b[39;00m mnist\n\u001b[0;32m----> 7\u001b[0m \u001b[39mimport\u001b[39;00m \u001b[39mmatplotlib\u001b[39;00m\u001b[39m.\u001b[39;00m\u001b[39mpyplot\u001b[39;00m \u001b[39mas\u001b[39;00m \u001b[39mplt\u001b[39;00m\n",
            "\u001b[0;31mModuleNotFoundError\u001b[0m: No module named 'matplotlib'"
          ]
        }
      ],
      "source": [
        "# Importing relevant libraries\n",
        "import tensorflow as tf\n",
        "import os\n",
        "import numpy as np\n",
        "from tensorflow import keras\n",
        "from tensorflow.keras.datasets import mnist\n",
        "import matplotlib.pyplot as plt"
      ]
    },
    {
      "cell_type": "code",
      "execution_count": 2,
      "metadata": {
        "id": "5wYvHiHyhOyh"
      },
      "outputs": [],
      "source": [
        "pathh = 'MNISTClassifier'\n",
        "\n",
        "for parent, dirs, files in os.walk(pathh, topdown=False):\n",
        "  for file in files:\n",
        "    file_path = os.path.join(parent, file)\n",
        "    os.remove(file_path)\n",
        "  for dir in dirs:\n",
        "    dir_path = os.path.join(parent, dir)\n",
        "    os.rmdir(dir_path)\n",
        "\n",
        "  os.rmdir('/content/MNISTClassifier')"
      ]
    },
    {
      "cell_type": "code",
      "execution_count": 3,
      "metadata": {
        "colab": {
          "base_uri": "https://localhost:8080/"
        },
        "id": "2Cet7I9ehVd6",
        "outputId": "aaf846ae-8ea0-4477-e789-fd37afb09978"
      },
      "outputs": [
        {
          "name": "stdout",
          "output_type": "stream",
          "text": [
            "Downloading data from https://storage.googleapis.com/tensorflow/tf-keras-datasets/mnist.npz\n",
            "11490434/11490434 [==============================] - 0s 0us/step\n"
          ]
        }
      ],
      "source": [
        "# loading the daa\n",
        "(images, labels), (test_images, test_labels) = mnist.load_data()\n",
        "images = images.reshape((60000, 28, 28)).astype(\"float32\") / 255\n",
        "images = np.expand_dims(images, axis=3)\n",
        "test_images = test_images.reshape((10000, 28, 28)).astype(\"float32\") / 255\n",
        "test_images = np.expand_dims(test_images, axis=3)\n",
        "x_train, x_test = images[10000:], images[:10000]\n",
        "y_train, y_test = labels[10000:], labels[:10000]"
      ]
    },
    {
      "cell_type": "code",
      "execution_count": 4,
      "metadata": {
        "colab": {
          "base_uri": "https://localhost:8080/",
          "height": 445
        },
        "id": "qI-3QkyNhlQ0",
        "outputId": "124d275f-3bdc-4f9b-f4ed-d8f8e668106a"
      },
      "outputs": [
        {
          "name": "stdout",
          "output_type": "stream",
          "text": [
            "2\n"
          ]
        },
        {
          "data": {
            "image/png": "[encoded data removed]",
            "text/plain": [
              "<Figure size 640x480 with 1 Axes>"
            ]
          },
          "metadata": {},
          "output_type": "display_data"
        }
      ],
      "source": [
        "# inspect the data\n",
        "x_test[5].shape\n",
        "digit = x_test[25]\n",
        "fig = plt.figure\n",
        "plt.imshow(digit, cmap='gray')\n",
        "print(y_test[16])"
      ]
    },
    {
      "cell_type": "code",
      "execution_count": 5,
      "metadata": {
        "id": "VeXbGdv8Pu8e"
      },
      "outputs": [],
      "source": [
        " class MNISTClassifier(tf.keras.Model):\n",
        "    def __init__(self):\n",
        "        super(MNISTClassifier, self).__init__()\n",
        "\n",
        "        # Define the layers\n",
        "        #for feature extration\n",
        "        self.conv1 = tf.keras.layers.Conv2D(32, kernel_size=(3, 3), activation='relu', input_shape=(28, 28, 1))\n",
        "        self.max_pool1 = tf.keras.layers.MaxPooling2D(pool_size=(2, 2))\n",
        "        self.conv2 = tf.keras.layers.Conv2D(64, kernel_size=(3, 3), activation='relu')\n",
        "        self.max_pool2 = tf.keras.layers.MaxPooling2D(pool_size=(2, 2))\n",
        "        self.flatten = tf.keras.layers.Flatten()\n",
        "        self.dropout1 = tf.keras.layers.Dropout(0.25)\n",
        "        self.dense1 = tf.keras.layers.Dense(128, activation='relu')\n",
        "        self.dropout2 = tf.keras.layers.Dropout(0.5)\n",
        "        self.dense2 = tf.keras.layers.Dense(10)\n",
        "        self.layers_list = [self.conv1, self.max_pool1, self.conv2, self.max_pool2,\n",
        "                           self.flatten, self.dropout1, self.dense1, self.dropout2, self.dense2]\n",
        "    @tf.function\n",
        "    def call(self, *args, **kwargs):\n",
        "        # Define the forward pass\n",
        "        # output is the model logits\n",
        "        activation_list = []\n",
        "        out = args[0]\n",
        "        for layer in self.layers_list:\n",
        "           out = layer(out)\n",
        "           activation_list.append(out)\n",
        "\n",
        "        if kwargs['training']:\n",
        "          #notice that training is a kw argument checked when fit is called\n",
        "          #so when model is training, all I need is the output logits to call the loss function upon\n",
        "          return out\n",
        "        else:\n",
        "          prob = tf.nn.softmax(out)\n",
        "          return out, prob"
      ]
    },
    {
      "cell_type": "code",
      "execution_count": 6,
      "metadata": {
        "id": "vmdFN-iRPu5R"
      },
      "outputs": [],
      "source": [
        "class SaveFinalTrainingLogitsProp(keras.callbacks.Callback):\n",
        "  def on_train_end(self, logs):\n",
        "    self.out = model.predict(x_train)\n",
        "    self.prob = tf.nn.softmax(self.out)\n",
        "    print(self.out.shape, self.prob.shape)"
      ]
    },
    {
      "cell_type": "code",
      "execution_count": 7,
      "metadata": {
        "colab": {
          "base_uri": "https://localhost:8080/"
        },
        "id": "NzkLHdTgPu2F",
        "outputId": "567b4377-0eb0-43b9-c6c8-c9580e5ac05e"
      },
      "outputs": [
        {
          "name": "stdout",
          "output_type": "stream",
          "text": [
            "Epoch 1/10\n",
            "1563/1563 [==============================] - 67s 42ms/step - loss: 0.2375 - accuracy: 0.9274 - val_loss: 0.0616 - val_accuracy: 0.9815\n",
            "Epoch 2/10\n",
            "1563/1563 [==============================] - 62s 40ms/step - loss: 0.0899 - accuracy: 0.9730 - val_loss: 0.0490 - val_accuracy: 0.9862\n",
            "Epoch 3/10\n",
            "1563/1563 [==============================] - 62s 39ms/step - loss: 0.0663 - accuracy: 0.9796 - val_loss: 0.0424 - val_accuracy: 0.9868\n",
            "Epoch 4/10\n",
            "1563/1563 [==============================] - 49s 32ms/step - loss: 0.0560 - accuracy: 0.9830 - val_loss: 0.0444 - val_accuracy: 0.9883\n",
            "Epoch 5/10\n",
            "1563/1563 [==============================] - 54s 34ms/step - loss: 0.0475 - accuracy: 0.9847 - val_loss: 0.0389 - val_accuracy: 0.9896\n",
            "Epoch 6/10\n",
            "1563/1563 [==============================] - 50s 32ms/step - loss: 0.0439 - accuracy: 0.9863 - val_loss: 0.0347 - val_accuracy: 0.9906\n",
            "Epoch 7/10\n",
            "1563/1563 [==============================] - 59s 38ms/step - loss: 0.0384 - accuracy: 0.9878 - val_loss: 0.0362 - val_accuracy: 0.9894\n",
            "Epoch 8/10\n",
            "1563/1563 [==============================] - 66s 42ms/step - loss: 0.0358 - accuracy: 0.9888 - val_loss: 0.0389 - val_accuracy: 0.9901\n",
            "Epoch 9/10\n",
            "1563/1563 [==============================] - 53s 34ms/step - loss: 0.0338 - accuracy: 0.9894 - val_loss: 0.0322 - val_accuracy: 0.9912\n",
            "Epoch 10/10\n",
            "1563/1563 [==============================] - 55s 35ms/step - loss: 0.0317 - accuracy: 0.9904 - val_loss: 0.0373 - val_accuracy: 0.9896\n"
          ]
        }
      ],
      "source": [
        "## Train a model and save\n",
        "model = MNISTClassifier()\n",
        "model.compile(loss=tf.keras.losses.SparseCategoricalCrossentropy(from_logits=True),\n",
        "              optimizer=tf.keras.optimizers.Adam(),\n",
        "              metrics=['accuracy'])\n",
        "\n",
        "model.fit(x_train, y_train, epochs=10, validation_data=(x_test, y_test))\n",
        "\n",
        "model.save('MNISTClassifier')"
      ]
    },
    {
      "cell_type": "code",
      "execution_count": 13,
      "metadata": {
        "id": "fLnBfsAvRhWh"
      },
      "outputs": [],
      "source": [
        "def run_attacks(img_arr, class_arr, model, att_func):\n",
        "  result = []\n",
        "  # result contains a tupple of AE and Pertubation\n",
        "\n",
        "  for img, cls in zip(img_arr, class_arr):\n",
        "    x_test_adv, perturbation = att_func(model, img, cls, 0.1)\n",
        "    result.append((x_test_adv, perturbation))\n",
        "\n",
        "  return result\n",
        "\n",
        "def pred_data(reshaped_sample_twos):\n",
        "  pred = []\n",
        "  prediction = []\n",
        "  for sample in reshaped_sample_twos:\n",
        "    sample_prediction = model.predict(sample)\n",
        "    pred.append(np.argmax(sample_prediction))\n",
        "    prediction.append(sample_prediction)\n",
        "  # print(np.argmax(prediction))\n",
        "  print(np.argmax(prediction[0][1]))\n",
        "  return prediction\n",
        "\n",
        "\n",
        "def load_data(twos_tuple):\n",
        "  reshaped_sample_twos = []\n",
        "  for tup in twos_tuple:\n",
        "    a_two = x_test[tup[0]]\n",
        "    a_two = np.reshape(a_two, (-1, 28, 28, 1))\n",
        "    reshaped_sample_twos.append(a_two)\n",
        "  reshaped_sample_twos = np.array(reshaped_sample_twos)\n",
        "  return reshaped_sample_twos\n",
        "\n",
        "def get_sample_data(n):\n",
        "  few_samples = []\n",
        "  count = 0\n",
        "  for index, label in enumerate(y_test):\n",
        "    if count > 9:\n",
        "      break\n",
        "    if label == n:\n",
        "      few_samples.append((index, label))\n",
        "      count += 1\n",
        "  return few_samples"
      ]
    },
    {
      "cell_type": "code",
      "execution_count": 9,
      "metadata": {
        "id": "sC2W3XHGQB6J"
      },
      "outputs": [],
      "source": [
        "model = tf.keras.models.load_model('MNISTClassifier')"
      ]
    },
    {
      "cell_type": "code",
      "execution_count": 10,
      "metadata": {
        "id": "-ehxQh0gQB2Q"
      },
      "outputs": [],
      "source": [
        "def fgsm(model, x, y, eps):\n",
        "  # tensor of same shape as x to hold perturbation\n",
        "  #x coming in is already perturbed version of x\n",
        "  # delta = tf.zeros_like(x)\n",
        "  y = tf.one_hot(y, 10)\n",
        "  y = np.reshape(y, (1,10))\n",
        "  y_pred = None\n",
        "  actual= None\n",
        "  predicted= None\n",
        "\n",
        "  num_iteration = 1\n",
        "  x = tf.cast(x, tf.float32)\n",
        "  while (num_iteration < 100):\n",
        "\n",
        "    with tf.GradientTape() as tape:\n",
        "        tape.watch(x)\n",
        "        y_pred = model(x)\n",
        "        y_pred = y_pred[1]\n",
        "        # print(\"y_pred\", y_pred)\n",
        "        # print(\"y\", y)\n",
        "        loss = tf.keras.losses.categorical_crossentropy(y, y_pred, from_logits=True)\n",
        "    gradient = tape.gradient(loss, x)\n",
        "    gradient /= tf.math.reduce_std(gradient) + 1e-8\n",
        "    signed_grad = tf.sign(gradient)\n",
        "    perturbation = eps*signed_grad\n",
        "    adv_x = x + perturbation\n",
        "    adv_x = tf.clip_by_value(adv_x, 0, 1) # make sure the perturbed image is still in [0, 1] range\n",
        "    x = adv_x\n",
        "    if num_iteration%10 == 0:\n",
        "      print(f\"Num_iterations: {num_iteration} \\n Y_Pred: {np.argmax(y_pred)} \\n Y: {np.argmax(y)}\")\n",
        "    if np.argmax(y_pred) != np.argmax(y):\n",
        "      actual = np.argmax(y)\n",
        "      predicted = np.argmax(y_pred)\n",
        "      break\n",
        "    num_iteration += 1\n",
        "\n",
        "  return adv_x, perturbation, actual, predicted"
      ]
    },
    {
      "cell_type": "code",
      "execution_count": null,
      "metadata": {
        "id": "o6vWobsYTPbm"
      },
      "outputs": [],
      "source": []
    },
    {
      "cell_type": "code",
      "execution_count": null,
      "metadata": {
        "id": "X5UfGs_ESX6W"
      },
      "outputs": [],
      "source": [
        "final_results = []\n",
        "for a in range(10):\n",
        "  original_images = []\n",
        "  adversarial_images = []\n",
        "  perturbations = []\n",
        "  sample_tuple = get_sample_data(a)\n",
        "  reshaped_samples = load_data(sample_tuple)\n",
        "  for x in reshaped_samples:\n",
        "    x_test_adv, perturbation, actuals, y_predicted = fgsm(model, x, a, 0.01)\n",
        "    print(actuals, y_predicted)\n",
        "    if actuals != y_predicted:\n",
        "      original_images.append(x)\n",
        "      # x_test_adv, perturbation = fgsm(model, x, a, 0.01)\n",
        "      adversarial_images.append(x_test_adv)\n",
        "      perturbations.append(perturbation)\n",
        "\n",
        "      final_results.append([x, x_test_adv, perturbation, actuals, y_predicted])\n"
      ]
    },
    {
      "cell_type": "code",
      "execution_count": null,
      "metadata": {
        "id": "VM4pHYyTX7ie"
      },
      "outputs": [],
      "source": []
    },
    {
      "cell_type": "code",
      "execution_count": 45,
      "metadata": {
        "id": "7R-I-lQaX7e0"
      },
      "outputs": [],
      "source": [
        "image_number = 89"
      ]
    },
    {
      "cell_type": "code",
      "execution_count": 46,
      "metadata": {
        "colab": {
          "base_uri": "https://localhost:8080/",
          "height": 445
        },
        "id": "MFkUIiIGSX1h",
        "outputId": "645f268e-c5e9-4ca1-d35e-254d68b69e69"
      },
      "outputs": [
        {
          "data": {
            "text/plain": [
              "<matplotlib.image.AxesImage at 0x7b69cf2fd210>"
            ]
          },
          "execution_count": 46,
          "metadata": {},
          "output_type": "execute_result"
        },
        {
          "data": {
            "image/png": "[encoded data removed]",
            "text/plain": [
              "<Figure size 640x480 with 1 Axes>"
            ]
          },
          "metadata": {},
          "output_type": "display_data"
        }
      ],
      "source": [
        "squeeze_original = np.expand_dims(np.squeeze(final_results[image_number][0]), axis=2)\n",
        "fig = plt.figure\n",
        "plt.imshow(squeeze_original, cmap='gray')\n",
        "# print(y_test[16])"
      ]
    },
    {
      "cell_type": "code",
      "execution_count": 47,
      "metadata": {
        "colab": {
          "base_uri": "https://localhost:8080/",
          "height": 445
        },
        "id": "vBAWQel_SXx1",
        "outputId": "c6625842-57bf-46c2-bde4-befea4d36af9"
      },
      "outputs": [
        {
          "data": {
            "text/plain": [
              "<matplotlib.image.AxesImage at 0x7b69cf14f5e0>"
            ]
          },
          "execution_count": 47,
          "metadata": {},
          "output_type": "execute_result"
        },
        {
          "data": {
            "image/png": "[encoded data removed]",
            "text/plain": [
              "<Figure size 640x480 with 1 Axes>"
            ]
          },
          "metadata": {},
          "output_type": "display_data"
        }
      ],
      "source": [
        "squeze_adversarial = np.expand_dims(np.squeeze(final_results[image_number][1]), axis=2)\n",
        "fig = plt.figure\n",
        "plt.imshow(squeze_adversarial, cmap='gray')"
      ]
    },
    {
      "cell_type": "code",
      "execution_count": 48,
      "metadata": {
        "colab": {
          "base_uri": "https://localhost:8080/",
          "height": 445
        },
        "id": "jmXB-HlcSXt2",
        "outputId": "6091a360-4a84-4aa4-f112-bc678c89daf2"
      },
      "outputs": [
        {
          "data": {
            "text/plain": [
              "<matplotlib.image.AxesImage at 0x7b69cf1d2d40>"
            ]
          },
          "execution_count": 48,
          "metadata": {},
          "output_type": "execute_result"
        },
        {
          "data": {
            "image/png": "[encoded data removed]",
            "text/plain": [
              "<Figure size 640x480 with 1 Axes>"
            ]
          },
          "metadata": {},
          "output_type": "display_data"
        }
      ],
      "source": [
        "squeze_perturbation = np.expand_dims(np.squeeze(final_results[image_number][2]), axis=2)\n",
        "fig = plt.figure\n",
        "plt.imshow(squeze_perturbation, cmap='gray')"
      ]
    },
    {
      "cell_type": "code",
      "execution_count": 68,
      "metadata": {
        "id": "jXQW5mTNP7Rt"
      },
      "outputs": [],
      "source": [
        "def plot_images(image_number):\n",
        "  original = final_results[image_number][0]\n",
        "  adv_pred = model.predict(final_results[image_number][2])\n",
        "  org_pred = model.predict(final_results[image_number][1])\n",
        "\n",
        "  org_pred = np.argmax(org_pred[1])\n",
        "  adv_pred = np.argmax(adv_pred[1])\n",
        "  # print(np.argmax(org_pred[1]))\n",
        "\n",
        "  org_image = np.expand_dims(np.squeeze(final_results[image_number][0]), axis=2)\n",
        "  adv_image = np.expand_dims(np.squeeze(final_results[image_number][1]), axis=2)\n",
        "  perturbation = np.expand_dims(np.squeeze(final_results[image_number][2]), axis=2)\n",
        "  print(\"orig img\", org_image.shape)\n",
        "  print(\"adv img\", adv_image.shape)\n",
        "  fig = plt.figure(figsize=(10, 10))\n",
        "\n",
        "  rows = 1\n",
        "  columns = 3\n",
        "\n",
        "  fig.add_subplot(rows, columns, 1)\n",
        "  plt.imshow(org_image, cmap='gray')\n",
        "  plt.axis('off')\n",
        "  plt.title(f'Original Image \\n prediction: {final_results[image_number][3]}')\n",
        "\n",
        "  fig.add_subplot(rows, columns, 2)\n",
        "  plt.imshow(perturbation, cmap='gray')\n",
        "  plt.axis('off')\n",
        "  plt.title(f'Pertubation: {final_results[image_number][4]}')\n",
        "\n",
        "  fig.add_subplot(rows, columns, 3)\n",
        "  plt.imshow(adv_image, cmap='gray')\n",
        "  plt.axis('off')\n",
        "  plt.title(f'Adversarial Image \\n Prediction: {final_results[image_number][4]}')\n"
      ]
    },
    {
      "cell_type": "code",
      "execution_count": 49,
      "metadata": {
        "colab": {
          "base_uri": "https://localhost:8080/"
        },
        "id": "LEHFJDSzU-Xc",
        "outputId": "221a1012-e035-4fe4-f047-9a74fb314508"
      },
      "outputs": [
        {
          "name": "stdout",
          "output_type": "stream",
          "text": [
            "1/1 [==============================] - 0s 32ms/step\n",
            "1/1 [==============================] - 0s 35ms/step\n"
          ]
        }
      ],
      "source": [
        "original = final_results[image_number][0]\n",
        "adv_pred = model.predict(final_results[image_number][2])\n",
        "org_pred = model.predict(final_results[image_number][1])\n",
        "\n",
        "org_pred = np.argmax(org_pred[1])\n",
        "adv_pred = np.argmax(adv_pred[1])\n",
        "# print(np.argmax(org_pred[1]))\n",
        "\n",
        "org_image = np.expand_dims(np.squeeze(final_results[image_number][0]), axis=2)\n",
        "adv_image = np.expand_dims(np.squeeze(final_results[image_number][1]), axis=2)\n",
        "perturbation = np.expand_dims(np.squeeze(final_results[image_number][2]), axis=2)\n",
        "print(\"orig img\", org_image.shape)\n",
        "print(\"adv img\", adv_image.shape)"
      ]
    },
    {
      "cell_type": "code",
      "execution_count": 52,
      "metadata": {
        "colab": {
          "base_uri": "https://localhost:8080/",
          "height": 323
        },
        "id": "p0Zecm5rU-Qu",
        "outputId": "4d2d0cdd-5dad-4a01-b6c1-82865b2b476d"
      },
      "outputs": [
        {
          "data": {
            "text/plain": [
              "Text(0.5, 1.0, 'Adversarial Image \\n Prediction: 9')"
            ]
          },
          "execution_count": 52,
          "metadata": {},
          "output_type": "execute_result"
        },
        {
          "data": {
            "image/png": "[encoded data removed]",
            "text/plain": [
              "<Figure size 1000x1000 with 3 Axes>"
            ]
          },
          "metadata": {},
          "output_type": "display_data"
        }
      ],
      "source": [
        "fig = plt.figure(figsize=(10, 10))\n",
        "\n",
        "rows = 1\n",
        "columns = 3\n",
        "\n",
        "fig.add_subplot(rows, columns, 1)\n",
        "plt.imshow(org_image, cmap='gray')\n",
        "plt.axis('off')\n",
        "plt.title(f'Original Image \\n prediction: {final_results[image_number][3]}')\n",
        "\n",
        "fig.add_subplot(rows, columns, 2)\n",
        "plt.imshow(perturbation, cmap='gray')\n",
        "plt.axis('off')\n",
        "plt.title(f'Pertubation: {final_results[image_number][4]}')\n",
        "\n",
        "fig.add_subplot(rows, columns, 3)\n",
        "plt.imshow(adv_image, cmap='gray')\n",
        "plt.axis('off')\n",
        "plt.title(f'Adversarial Image \\n Prediction: {final_results[image_number][4]}')"
      ]
    },
    {
      "cell_type": "code",
      "execution_count": null,
      "metadata": {
        "id": "_UnO5tRHP7OR"
      },
      "outputs": [],
      "source": []
    },
    {
      "cell_type": "code",
      "execution_count": null,
      "metadata": {
        "id": "DJhCTJ-fZxgv"
      },
      "outputs": [],
      "source": []
    },
    {
      "cell_type": "markdown",
      "metadata": {
        "id": "E7cr-uiIc4jI"
      },
      "source": [
        "Attack Evaluation"
      ]
    },
    {
      "cell_type": "code",
      "execution_count": 53,
      "metadata": {
        "id": "HUlxgEOQZxXa"
      },
      "outputs": [],
      "source": [
        "def euclidean_distance(ori, adv):\n",
        "  orig = np.array(ori).flatten()\n",
        "  adve = np.array(adv).flatten()\n",
        "  dist = np.linalg.norm(orig - adve)\n",
        "  return dist"
      ]
    },
    {
      "cell_type": "code",
      "execution_count": 54,
      "metadata": {
        "id": "P2F-sUPtZxT4"
      },
      "outputs": [],
      "source": [
        "fgsm_ = []\n",
        "for b in range(len(final_results)):\n",
        "  fgsm_.append(euclidean_distance(final_results [b][0], final_results [b][1]))"
      ]
    },
    {
      "cell_type": "code",
      "execution_count": 57,
      "metadata": {
        "colab": {
          "base_uri": "https://localhost:8080/",
          "height": 431
        },
        "id": "SiThd-0AdPvr",
        "outputId": "cf3ff0ef-8628-4cdf-de47-61a3812c9251"
      },
      "outputs": [
        {
          "data": {
            "image/png": "[encoded data removed]",
            "text/plain": [
              "<Figure size 640x480 with 1 Axes>"
            ]
          },
          "metadata": {},
          "output_type": "display_data"
        }
      ],
      "source": [
        "plt.figure()\n",
        "plt.hist(fgsm_, color='blue')\n",
        "plt.show()"
      ]
    },
    {
      "cell_type": "code",
      "execution_count": 64,
      "metadata": {
        "id": "7zIq4yR8dPsb"
      },
      "outputs": [],
      "source": []
    },
    {
      "cell_type": "code",
      "execution_count": 69,
      "metadata": {
        "colab": {
          "base_uri": "https://localhost:8080/",
          "height": 372
        },
        "id": "NTAkjbhydPo_",
        "outputId": "73a81023-fbbc-41d4-f54b-cdec07d18683"
      },
      "outputs": [
        {
          "name": "stdout",
          "output_type": "stream",
          "text": [
            "1/1 [==============================] - 0s 21ms/step\n",
            "1/1 [==============================] - 0s 21ms/step\n",
            "orig img (28, 28, 1)\n",
            "adv img (28, 28, 1)\n"
          ]
        },
        {
          "data": {
            "image/png": "[encoded data removed]",
            "text/plain": [
              "<Figure size 1000x1000 with 3 Axes>"
            ]
          },
          "metadata": {},
          "output_type": "display_data"
        }
      ],
      "source": [
        "minimum = fgsm_.index(min(fgsm_))\n",
        "plot_images(minimum)"
      ]
    },
    {
      "cell_type": "code",
      "execution_count": 70,
      "metadata": {
        "colab": {
          "base_uri": "https://localhost:8080/",
          "height": 372
        },
        "id": "WfEKzzeydPlN",
        "outputId": "71a04843-9204-4843-9bb2-783455f97966"
      },
      "outputs": [
        {
          "name": "stdout",
          "output_type": "stream",
          "text": [
            "1/1 [==============================] - 0s 36ms/step\n",
            "1/1 [==============================] - 0s 43ms/step\n",
            "orig img (28, 28, 1)\n",
            "adv img (28, 28, 1)\n"
          ]
        },
        {
          "data": {
            "image/png": "[encoded data removed]",
            "text/plain": [
              "<Figure size 1000x1000 with 3 Axes>"
            ]
          },
          "metadata": {},
          "output_type": "display_data"
        }
      ],
      "source": [
        "maximum = fgsm_.index(max(fgsm_))\n",
        "plot_images(maximum)"
      ]
    },
    {
      "cell_type": "code",
      "execution_count": null,
      "metadata": {
        "id": "3V_TAPT4dPg-"
      },
      "outputs": [],
      "source": []
    },
    {
      "cell_type": "code",
      "execution_count": null,
      "metadata": {
        "id": "LbyIdQgLdPdR"
      },
      "outputs": [],
      "source": []
    },
    {
      "cell_type": "markdown",
      "metadata": {
        "id": "mvXUu2LqcG1U"
      },
      "source": [
        "#### CW Attacks"
      ]
    },
    {
      "cell_type": "code",
      "execution_count": 72,
      "metadata": {
        "id": "_KLvlgSfZxP4"
      },
      "outputs": [],
      "source": [
        "def cw_attack(model, image, target_class, max_iterations=12, confidence=0.0, learning_rate=0.01):\n",
        "  #cw_attack loss function\n",
        "  def cw_loss(logits, target_class, confidence):\n",
        "    target_one_hot = tf.one_hot(target_class, logits.shape[1])\n",
        "    correct_logits = tf.reduce_sum(target_one_hot * logits, axis=1)\n",
        "    other_logits = tf.reduce_max((1-target_one_hot) * logits - target_one_hot * 10000, axis=1)\n",
        "    loss = tf.maximum(0.0, other_logits - correct_logits + confidence)\n",
        "    return tf.reduce_mean(loss)\n",
        "\n",
        "  image_shape = image.shape\n",
        "  image = tf.convert_to_tensor(image)\n",
        "  image = tf.expand_dims(image, axis=0)\n",
        "\n",
        "  target_class = tf.convert_to_tensor(target_class)\n",
        "\n",
        "  image_var = tf.Variable(image, dtype=tf.float32)\n",
        "\n",
        "  optimizer = tf.keras.optimizers.Adam(learning_rate=learning_rate)\n",
        "\n",
        "  for iteration in range(max_iterations):\n",
        "    with tf.GradientTape() as tape:\n",
        "      logits = model(image_var)\n",
        "      loss = cw_loss(logits, target_class, confidence)\n",
        "\n",
        "    gradients = tape.gradient(loss, image_var)\n",
        "    optimizer.apply_gradients([(gradients, image_var)])\n",
        "\n",
        "    image_var.assign(tf.clip_by_value(image_var, 0.0, 0.1))\n",
        "\n",
        "    if iteration % 100 == 0:\n",
        "      print(f\"iteration: {iteration} \\t loss: {loss.numpy()}\")\n",
        "\n",
        "  adversarial_image = image_var.numpy().reshape(image_shape)\n",
        "\n",
        "  return adversarial_image"
      ]
    },
    {
      "cell_type": "code",
      "execution_count": null,
      "metadata": {
        "id": "zJWW1fOrZxL6"
      },
      "outputs": [],
      "source": []
    },
    {
      "cell_type": "code",
      "execution_count": 74,
      "metadata": {
        "id": "AIpeh8C3jNZz"
      },
      "outputs": [],
      "source": [
        "(images, labels), (test_images, test_labels) = mnist.load_data()\n",
        "images = images.reshape(60000, 28, 28).astype(\"float32\")/255\n",
        "images = np.expand_dims(images, axis=3)\n",
        "test_images = test_images.reshape(10000, 28, 28).astype(\"float32\")/255\n",
        "test_images = np.expand_dims(test_images, axis=3)\n",
        "x_train, x_test = images[10000:], images[:10000]\n",
        "y_train, y_test = labels[10000:], labels[:10000]\n"
      ]
    },
    {
      "cell_type": "code",
      "execution_count": 76,
      "metadata": {
        "colab": {
          "base_uri": "https://localhost:8080/"
        },
        "id": "cMnXgMlAkCCR",
        "outputId": "e18d7229-f5ac-4ba0-8327-e5663202538a"
      },
      "outputs": [
        {
          "name": "stdout",
          "output_type": "stream",
          "text": [
            "50000\n",
            "40000\n"
          ]
        }
      ],
      "source": [
        "#create validation data from train dataset\n",
        "print(len(x_train))\n",
        "x_train, x_val = x_train[10000:], x_train[:10000]\n",
        "y_train, y_val = y_train[10000:], y_train[:10000]\n",
        "print(len(x_train))"
      ]
    },
    {
      "cell_type": "code",
      "execution_count": 75,
      "metadata": {
        "id": "Llv9v8DqjNVU"
      },
      "outputs": [],
      "source": [
        "class MNISTClassifier(tf.keras.Model):\n",
        "  def __init__(self):\n",
        "    super(MNISTClassifier, self).__init__()\n",
        "\n",
        "    #define the layers for feature extraction\n",
        "    self.conv1 = tf.keras.layers.Conv2D(32, kernel_size=(3, 3), activation='relu', input_shape=(28, 28, 1))\n",
        "    self.max_pool1 = tf.keras.layers.MaxPooling2D(pool_size=(2, 2))\n",
        "    self.conv2 = tf.keras.layers.Conv2D(64, kernel_size=(3, 3), activation='relu')\n",
        "    self.max_pool2 = tf.keras.layers.MaxPooling2D(pool_size=(2, 2))\n",
        "    self.flatten = tf.keras.layers.Flatten()\n",
        "    self.dropout1 = tf.keras.layers.Dropout(0.25)\n",
        "    self.dense1 = tf.keras.layers.Dense(128, activation='relu')\n",
        "    self.dropout2 = tf.keras.layers.Dropout(0.5)\n",
        "    self.dense2 = tf.keras.layers.Dense(10)\n",
        "    self.layers_list = [self.conv1, self.max_pool1, self.conv2, self.max_pool2,\n",
        "                        self.flatten, self.dropout1, self.dense1, self.dropout2, self.dense2]\n",
        "\n",
        "  def call(self, *args, **kwargs):\n",
        "    #define forward pass\n",
        "    activation_list = []\n",
        "    out = args[0]\n",
        "    for layer in self.layers_list:\n",
        "      out = layer(out)\n",
        "      activation_list.append(out)\n",
        "\n",
        "    return out"
      ]
    },
    {
      "cell_type": "code",
      "execution_count": null,
      "metadata": {
        "id": "gwPLmP9CjNPP"
      },
      "outputs": [],
      "source": []
    },
    {
      "cell_type": "code",
      "execution_count": 78,
      "metadata": {
        "colab": {
          "base_uri": "https://localhost:8080/"
        },
        "id": "YfC4Yf8Mj_QA",
        "outputId": "f245f2c5-f53f-49f5-9c08-8a87cfe780b6"
      },
      "outputs": [
        {
          "name": "stdout",
          "output_type": "stream",
          "text": [
            "Epoch 1/10\n",
            "1250/1250 [==============================] - 43s 33ms/step - loss: 0.2750 - accuracy: 0.9129 - val_loss: 0.0685 - val_accuracy: 0.9799\n",
            "Epoch 2/10\n",
            "1250/1250 [==============================] - 46s 37ms/step - loss: 0.1047 - accuracy: 0.9676 - val_loss: 0.0466 - val_accuracy: 0.9861\n",
            "Epoch 3/10\n",
            "1250/1250 [==============================] - 39s 31ms/step - loss: 0.0774 - accuracy: 0.9764 - val_loss: 0.0382 - val_accuracy: 0.9893\n",
            "Epoch 4/10\n",
            "1250/1250 [==============================] - 39s 31ms/step - loss: 0.0626 - accuracy: 0.9809 - val_loss: 0.0334 - val_accuracy: 0.9900\n",
            "Epoch 5/10\n",
            "1250/1250 [==============================] - 42s 34ms/step - loss: 0.0547 - accuracy: 0.9830 - val_loss: 0.0404 - val_accuracy: 0.9879\n",
            "Epoch 6/10\n",
            "1250/1250 [==============================] - 42s 34ms/step - loss: 0.0481 - accuracy: 0.9847 - val_loss: 0.0291 - val_accuracy: 0.9917\n",
            "Epoch 7/10\n",
            "1250/1250 [==============================] - 42s 34ms/step - loss: 0.0446 - accuracy: 0.9858 - val_loss: 0.0305 - val_accuracy: 0.9913\n",
            "Epoch 8/10\n",
            "1250/1250 [==============================] - 39s 31ms/step - loss: 0.0388 - accuracy: 0.9882 - val_loss: 0.0304 - val_accuracy: 0.9912\n",
            "Epoch 9/10\n",
            "1250/1250 [==============================] - 39s 31ms/step - loss: 0.0350 - accuracy: 0.9890 - val_loss: 0.0273 - val_accuracy: 0.9915\n",
            "Epoch 10/10\n",
            "1250/1250 [==============================] - 41s 33ms/step - loss: 0.0340 - accuracy: 0.9888 - val_loss: 0.0290 - val_accuracy: 0.9924\n",
            "Model: \"mnist_classifier_1\"\n",
            "_________________________________________________________________\n",
            " Layer (type)                Output Shape              Param #   \n",
            "=================================================================\n",
            " conv2d_2 (Conv2D)           multiple                  320       \n",
            "                                                                 \n",
            " max_pooling2d_2 (MaxPoolin  multiple                  0         \n",
            " g2D)                                                            \n",
            "                                                                 \n",
            " conv2d_3 (Conv2D)           multiple                  18496     \n",
            "                                                                 \n",
            " max_pooling2d_3 (MaxPoolin  multiple                  0         \n",
            " g2D)                                                            \n",
            "                                                                 \n",
            " flatten_1 (Flatten)         multiple                  0         \n",
            "                                                                 \n",
            " dropout_2 (Dropout)         multiple                  0         \n",
            "                                                                 \n",
            " dense_2 (Dense)             multiple                  204928    \n",
            "                                                                 \n",
            " dropout_3 (Dropout)         multiple                  0         \n",
            "                                                                 \n",
            " dense_3 (Dense)             multiple                  1290      \n",
            "                                                                 \n",
            "=================================================================\n",
            "Total params: 225034 (879.04 KB)\n",
            "Trainable params: 225034 (879.04 KB)\n",
            "Non-trainable params: 0 (0.00 Byte)\n",
            "_________________________________________________________________\n"
          ]
        }
      ],
      "source": [
        "model = MNISTClassifier()\n",
        "model.compile(loss=tf.keras.losses.SparseCategoricalCrossentropy(from_logits=True),\n",
        "              optimizer=tf.keras.optimizers.Adam(),\n",
        "              metrics=['accuracy'])\n",
        "model.fit(x_train, y_train, epochs=10, validation_data=(x_val, y_val))\n",
        "model.save('MNISTClassifier')\n",
        "model.summary()"
      ]
    },
    {
      "cell_type": "code",
      "execution_count": 78,
      "metadata": {
        "id": "VutNnfezklSP"
      },
      "outputs": [],
      "source": []
    },
    {
      "cell_type": "code",
      "execution_count": 79,
      "metadata": {
        "id": "P1LzlwI3kvbM"
      },
      "outputs": [],
      "source": [
        "model = tf.keras.models.load_model('MNISTClassifier')"
      ]
    },
    {
      "cell_type": "code",
      "execution_count": 82,
      "metadata": {
        "colab": {
          "base_uri": "https://localhost:8080/"
        },
        "id": "uyU_t0UiZxIX",
        "outputId": "d78d581b-5675-43fa-8364-63d3220e3f3f"
      },
      "outputs": [
        {
          "name": "stdout",
          "output_type": "stream",
          "text": [
            "iteration: 0 \t loss: 0.0\n",
            "1/1 [==============================] - 0s 32ms/step\n",
            "Actual: 0predicted: 0\n",
            "iteration: 0 \t loss: 22.417911529541016\n",
            "1/1 [==============================] - 0s 34ms/step\n",
            "Actual: 0predicted: 1\n",
            "iteration: 0 \t loss: 15.576720237731934\n",
            "1/1 [==============================] - 0s 33ms/step\n",
            "Actual: 0predicted: 3\n",
            "iteration: 0 \t loss: 21.62158966064453\n",
            "1/1 [==============================] - 0s 33ms/step\n",
            "Actual: 0predicted: 3\n",
            "iteration: 0 \t loss: 24.111980438232422\n",
            "1/1 [==============================] - 0s 35ms/step\n",
            "Actual: 0predicted: 1\n",
            "iteration: 0 \t loss: 18.509422302246094\n",
            "1/1 [==============================] - 0s 32ms/step\n",
            "Actual: 0predicted: 3\n",
            "iteration: 0 \t loss: 13.741560935974121\n",
            "1/1 [==============================] - 0s 41ms/step\n",
            "Actual: 0predicted: 0\n",
            "iteration: 0 \t loss: 26.49602508544922\n",
            "1/1 [==============================] - 0s 36ms/step\n",
            "Actual: 0predicted: 1\n",
            "iteration: 0 \t loss: 8.78702163696289\n",
            "1/1 [==============================] - 0s 39ms/step\n",
            "Actual: 0predicted: 8\n",
            "iteration: 0 \t loss: 15.157930374145508\n",
            "1/1 [==============================] - 0s 35ms/step\n",
            "Actual: 0predicted: 0\n",
            "iteration: 0 \t loss: 21.78715705871582\n",
            "1/1 [==============================] - 0s 31ms/step\n",
            "Actual: 1predicted: 0\n",
            "iteration: 0 \t loss: 0.0\n",
            "1/1 [==============================] - 0s 35ms/step\n",
            "Actual: 1predicted: 1\n",
            "iteration: 0 \t loss: 20.818714141845703\n",
            "1/1 [==============================] - 0s 21ms/step\n",
            "Actual: 1predicted: 1\n",
            "iteration: 0 \t loss: 23.975711822509766\n",
            "1/1 [==============================] - 0s 20ms/step\n",
            "Actual: 1predicted: 1\n",
            "iteration: 0 \t loss: 18.177021026611328\n",
            "1/1 [==============================] - 0s 26ms/step\n",
            "Actual: 1predicted: 1\n",
            "iteration: 0 \t loss: 15.86425495147705\n",
            "1/1 [==============================] - 0s 21ms/step\n",
            "Actual: 1predicted: 3\n",
            "iteration: 0 \t loss: 20.623231887817383\n",
            "1/1 [==============================] - 0s 20ms/step\n",
            "Actual: 1predicted: 0\n",
            "iteration: 0 \t loss: 22.845760345458984\n",
            "1/1 [==============================] - 0s 24ms/step\n",
            "Actual: 1predicted: 0\n",
            "iteration: 0 \t loss: 7.796483516693115\n",
            "1/1 [==============================] - 0s 26ms/step\n",
            "Actual: 1predicted: 8\n",
            "iteration: 0 \t loss: 12.964707374572754\n",
            "1/1 [==============================] - 0s 23ms/step\n",
            "Actual: 1predicted: 0\n",
            "iteration: 0 \t loss: 29.384601593017578\n",
            "1/1 [==============================] - 0s 22ms/step\n",
            "Actual: 2predicted: 0\n",
            "iteration: 0 \t loss: 23.358360290527344\n",
            "1/1 [==============================] - 0s 20ms/step\n",
            "Actual: 2predicted: 1\n",
            "iteration: 0 \t loss: 0.0\n",
            "1/1 [==============================] - 0s 21ms/step\n",
            "Actual: 2predicted: 2\n",
            "iteration: 0 \t loss: 13.449885368347168\n",
            "1/1 [==============================] - 0s 21ms/step\n",
            "Actual: 2predicted: 3\n",
            "iteration: 0 \t loss: 33.03721618652344\n",
            "1/1 [==============================] - 0s 22ms/step\n",
            "Actual: 2predicted: 1\n",
            "iteration: 0 \t loss: 33.755191802978516\n",
            "1/1 [==============================] - 0s 23ms/step\n",
            "Actual: 2predicted: 5\n",
            "iteration: 0 \t loss: 19.90279769897461\n",
            "1/1 [==============================] - 0s 22ms/step\n",
            "Actual: 2predicted: 3\n",
            "iteration: 0 \t loss: 14.794047355651855\n",
            "1/1 [==============================] - 0s 26ms/step\n",
            "Actual: 2predicted: 1\n",
            "iteration: 0 \t loss: 16.36871910095215\n",
            "1/1 [==============================] - 0s 23ms/step\n",
            "Actual: 2predicted: 8\n",
            "iteration: 0 \t loss: 38.14589309692383\n",
            "1/1 [==============================] - 0s 20ms/step\n",
            "Actual: 2predicted: 1\n",
            "iteration: 0 \t loss: 45.53070831298828\n",
            "1/1 [==============================] - 0s 23ms/step\n",
            "Actual: 3predicted: 0\n",
            "iteration: 0 \t loss: 19.54832649230957\n",
            "1/1 [==============================] - 0s 21ms/step\n",
            "Actual: 3predicted: 1\n",
            "iteration: 0 \t loss: 29.625402450561523\n",
            "1/1 [==============================] - 0s 21ms/step\n",
            "Actual: 3predicted: 2\n",
            "iteration: 0 \t loss: 0.0\n",
            "1/1 [==============================] - 0s 23ms/step\n",
            "Actual: 3predicted: 3\n",
            "iteration: 0 \t loss: 17.1092529296875\n",
            "1/1 [==============================] - 0s 22ms/step\n",
            "Actual: 3predicted: 1\n",
            "iteration: 0 \t loss: 21.222965240478516\n",
            "1/1 [==============================] - 0s 24ms/step\n",
            "Actual: 3predicted: 5\n",
            "iteration: 0 \t loss: 41.26475143432617\n",
            "1/1 [==============================] - 0s 21ms/step\n",
            "Actual: 3predicted: 0\n",
            "iteration: 0 \t loss: 23.8531494140625\n",
            "1/1 [==============================] - 0s 23ms/step\n",
            "Actual: 3predicted: 7\n",
            "iteration: 0 \t loss: 23.692615509033203\n",
            "1/1 [==============================] - 0s 20ms/step\n",
            "Actual: 3predicted: 8\n",
            "iteration: 0 \t loss: 22.845993041992188\n",
            "1/1 [==============================] - 0s 21ms/step\n",
            "Actual: 3predicted: 1\n",
            "iteration: 0 \t loss: 35.696327209472656\n",
            "1/1 [==============================] - 0s 22ms/step\n",
            "Actual: 4predicted: 0\n",
            "iteration: 0 \t loss: 21.601736068725586\n",
            "1/1 [==============================] - 0s 29ms/step\n",
            "Actual: 4predicted: 1\n",
            "iteration: 0 \t loss: 14.786375999450684\n",
            "1/1 [==============================] - 0s 23ms/step\n",
            "Actual: 4predicted: 2\n",
            "iteration: 0 \t loss: 32.52617645263672\n",
            "1/1 [==============================] - 0s 21ms/step\n",
            "Actual: 4predicted: 3\n",
            "iteration: 0 \t loss: 0.0\n",
            "1/1 [==============================] - 0s 21ms/step\n",
            "Actual: 4predicted: 1\n",
            "iteration: 0 \t loss: 26.215805053710938\n",
            "1/1 [==============================] - 0s 28ms/step\n",
            "Actual: 4predicted: 5\n",
            "iteration: 0 \t loss: 23.994428634643555\n",
            "1/1 [==============================] - 0s 23ms/step\n",
            "Actual: 4predicted: 6\n",
            "iteration: 0 \t loss: 18.474658966064453\n",
            "1/1 [==============================] - 0s 23ms/step\n",
            "Actual: 4predicted: 3\n",
            "iteration: 0 \t loss: 23.835548400878906\n",
            "1/1 [==============================] - 0s 24ms/step\n",
            "Actual: 4predicted: 8\n",
            "iteration: 0 \t loss: 17.287151336669922\n",
            "1/1 [==============================] - 0s 31ms/step\n",
            "Actual: 4predicted: 1\n",
            "iteration: 0 \t loss: 21.445755004882812\n",
            "1/1 [==============================] - 0s 25ms/step\n",
            "Actual: 5predicted: 0\n",
            "iteration: 0 \t loss: 22.585609436035156\n",
            "1/1 [==============================] - 0s 21ms/step\n",
            "Actual: 5predicted: 1\n",
            "iteration: 0 \t loss: 38.07452392578125\n",
            "1/1 [==============================] - 0s 21ms/step\n",
            "Actual: 5predicted: 8\n",
            "iteration: 0 \t loss: 23.433738708496094\n",
            "1/1 [==============================] - 0s 23ms/step\n",
            "Actual: 5predicted: 3\n",
            "iteration: 0 \t loss: 30.924274444580078\n",
            "1/1 [==============================] - 0s 35ms/step\n",
            "Actual: 5predicted: 1\n",
            "iteration: 0 \t loss: 0.0\n",
            "1/1 [==============================] - 0s 36ms/step\n",
            "Actual: 5predicted: 5\n",
            "iteration: 0 \t loss: 14.57302188873291\n",
            "1/1 [==============================] - 0s 43ms/step\n",
            "Actual: 5predicted: 0\n",
            "iteration: 0 \t loss: 30.445966720581055\n",
            "1/1 [==============================] - 0s 33ms/step\n",
            "Actual: 5predicted: 7\n",
            "iteration: 0 \t loss: 26.125343322753906\n",
            "1/1 [==============================] - 0s 34ms/step\n",
            "Actual: 5predicted: 8\n",
            "iteration: 0 \t loss: 17.175168991088867\n",
            "1/1 [==============================] - 0s 36ms/step\n",
            "Actual: 5predicted: 1\n",
            "iteration: 0 \t loss: 22.548017501831055\n",
            "1/1 [==============================] - 0s 36ms/step\n",
            "Actual: 6predicted: 0\n",
            "iteration: 0 \t loss: 28.912826538085938\n",
            "1/1 [==============================] - 0s 31ms/step\n",
            "Actual: 6predicted: 1\n",
            "iteration: 0 \t loss: 27.998685836791992\n",
            "1/1 [==============================] - 0s 32ms/step\n",
            "Actual: 6predicted: 1\n",
            "iteration: 0 \t loss: 19.733137130737305\n",
            "1/1 [==============================] - 0s 37ms/step\n",
            "Actual: 6predicted: 3\n",
            "iteration: 0 \t loss: 16.703645706176758\n",
            "1/1 [==============================] - 0s 31ms/step\n",
            "Actual: 6predicted: 1\n",
            "iteration: 0 \t loss: 11.939254760742188\n",
            "1/1 [==============================] - 0s 34ms/step\n",
            "Actual: 6predicted: 5\n",
            "iteration: 0 \t loss: 0.0\n",
            "1/1 [==============================] - 0s 33ms/step\n",
            "Actual: 6predicted: 6\n",
            "iteration: 0 \t loss: 43.28416442871094\n",
            "1/1 [==============================] - 0s 32ms/step\n",
            "Actual: 6predicted: 7\n",
            "iteration: 0 \t loss: 31.880916595458984\n",
            "1/1 [==============================] - 0s 34ms/step\n",
            "Actual: 6predicted: 8\n",
            "iteration: 0 \t loss: 32.833309173583984\n",
            "1/1 [==============================] - 0s 33ms/step\n",
            "Actual: 6predicted: 1\n",
            "iteration: 0 \t loss: 22.91223907470703\n",
            "1/1 [==============================] - 0s 30ms/step\n",
            "Actual: 7predicted: 0\n",
            "iteration: 0 \t loss: 9.409948348999023\n",
            "1/1 [==============================] - 0s 32ms/step\n",
            "Actual: 7predicted: 1\n",
            "iteration: 0 \t loss: 7.810683250427246\n",
            "1/1 [==============================] - 0s 40ms/step\n",
            "Actual: 7predicted: 2\n",
            "iteration: 0 \t loss: 13.491320610046387\n",
            "1/1 [==============================] - 0s 32ms/step\n",
            "Actual: 7predicted: 3\n",
            "iteration: 0 \t loss: 19.304271697998047\n",
            "1/1 [==============================] - 0s 21ms/step\n",
            "Actual: 7predicted: 1\n",
            "iteration: 0 \t loss: 21.87618064880371\n",
            "1/1 [==============================] - 0s 21ms/step\n",
            "Actual: 7predicted: 3\n",
            "iteration: 0 \t loss: 28.677322387695312\n",
            "1/1 [==============================] - 0s 23ms/step\n",
            "Actual: 7predicted: 1\n",
            "iteration: 0 \t loss: 0.0\n",
            "1/1 [==============================] - 0s 21ms/step\n",
            "Actual: 7predicted: 7\n",
            "iteration: 0 \t loss: 21.311107635498047\n",
            "1/1 [==============================] - 0s 23ms/step\n",
            "Actual: 7predicted: 1\n",
            "iteration: 0 \t loss: 13.05459976196289\n",
            "1/1 [==============================] - 0s 22ms/step\n",
            "Actual: 7predicted: 0\n",
            "iteration: 0 \t loss: 27.94415855407715\n",
            "1/1 [==============================] - 0s 21ms/step\n",
            "Actual: 8predicted: 0\n",
            "iteration: 0 \t loss: 22.814300537109375\n",
            "1/1 [==============================] - 0s 26ms/step\n",
            "Actual: 8predicted: 1\n",
            "iteration: 0 \t loss: 32.520816802978516\n",
            "1/1 [==============================] - 0s 21ms/step\n",
            "Actual: 8predicted: 1\n",
            "iteration: 0 \t loss: 22.91852569580078\n",
            "1/1 [==============================] - 0s 23ms/step\n",
            "Actual: 8predicted: 3\n",
            "iteration: 0 \t loss: 19.60833740234375\n",
            "1/1 [==============================] - 0s 23ms/step\n",
            "Actual: 8predicted: 0\n",
            "iteration: 0 \t loss: 19.726301193237305\n",
            "1/1 [==============================] - 0s 22ms/step\n",
            "Actual: 8predicted: 5\n",
            "iteration: 0 \t loss: 31.43140411376953\n",
            "1/1 [==============================] - 0s 25ms/step\n",
            "Actual: 8predicted: 1\n",
            "iteration: 0 \t loss: 43.20594024658203\n",
            "1/1 [==============================] - 0s 21ms/step\n",
            "Actual: 8predicted: 1\n",
            "iteration: 0 \t loss: 0.0\n",
            "1/1 [==============================] - 0s 21ms/step\n",
            "Actual: 8predicted: 8\n",
            "iteration: 0 \t loss: 11.248052597045898\n",
            "1/1 [==============================] - 0s 21ms/step\n",
            "Actual: 8predicted: 0\n",
            "iteration: 0 \t loss: 25.768634796142578\n",
            "1/1 [==============================] - 0s 24ms/step\n",
            "Actual: 9predicted: 0\n",
            "iteration: 0 \t loss: 23.335033416748047\n",
            "1/1 [==============================] - 0s 21ms/step\n",
            "Actual: 9predicted: 1\n",
            "iteration: 0 \t loss: 19.3686580657959\n",
            "1/1 [==============================] - 0s 24ms/step\n",
            "Actual: 9predicted: 3\n",
            "iteration: 0 \t loss: 16.76176643371582\n",
            "1/1 [==============================] - 0s 24ms/step\n",
            "Actual: 9predicted: 3\n",
            "iteration: 0 \t loss: 16.50592041015625\n",
            "1/1 [==============================] - 0s 31ms/step\n",
            "Actual: 9predicted: 1\n",
            "iteration: 0 \t loss: 27.81023406982422\n",
            "1/1 [==============================] - 0s 24ms/step\n",
            "Actual: 9predicted: 3\n",
            "iteration: 0 \t loss: 19.150558471679688\n",
            "1/1 [==============================] - 0s 24ms/step\n",
            "Actual: 9predicted: 0\n",
            "iteration: 0 \t loss: 8.730738639831543\n",
            "1/1 [==============================] - 0s 26ms/step\n",
            "Actual: 9predicted: 7\n",
            "iteration: 0 \t loss: 24.549049377441406\n",
            "1/1 [==============================] - 0s 21ms/step\n",
            "Actual: 9predicted: 8\n",
            "iteration: 0 \t loss: 1.9774489402770996\n",
            "1/1 [==============================] - 0s 21ms/step\n",
            "Actual: 9predicted: 1\n"
          ]
        }
      ],
      "source": [
        "final_results = []\n",
        "for c in range(10):\n",
        "  for d in range(10):\n",
        "    sample_tuple = get_sample_data(c)\n",
        "    reshaped_sample = load_data(sample_tuple)\n",
        "    ori_image = tf.squeeze(reshaped_sample[d], axis=0)\n",
        "    adv_image = cw_attack(model, ori_image, d)\n",
        "    predicted = np.argmax(model.predict(np.expand_dims(adv_image, axis=0)))\n",
        "    if c != predicted:\n",
        "      final_results.append([ori_image, adv_image, c,  predicted])\n",
        "\n",
        "    print(\"Actual: \" + str(c) + \"predicted: \" + str(predicted))\n"
      ]
    },
    {
      "cell_type": "code",
      "execution_count": 83,
      "metadata": {
        "colab": {
          "base_uri": "https://localhost:8080/",
          "height": 448
        },
        "id": "SyfWegF5ZxEs",
        "outputId": "a3bb4c14-b2ab-42fd-bb92-670497861380"
      },
      "outputs": [
        {
          "data": {
            "image/png": "[encoded data removed]",
            "text/plain": [
              "<Figure size 640x480 with 1 Axes>"
            ]
          },
          "metadata": {},
          "output_type": "display_data"
        }
      ],
      "source": [
        "cw_ = []\n",
        "for b in range(len(final_results)):\n",
        "  cw_.append(euclidean_distance(final_results [b][0], final_results [b][1]))\n",
        "\n",
        "plt.figure()\n",
        "plt.hist(cw_, color='blue', bins=15)\n",
        "plt.xlabel(\"Euclidean Distance\")\n",
        "plt.show()"
      ]
    },
    {
      "cell_type": "code",
      "execution_count": 99,
      "metadata": {
        "id": "CoT2mR3itCZR"
      },
      "outputs": [],
      "source": [
        "def plot_cw_attacks(image_number):\n",
        "  fig = plt.figure(figsize=(10, 10))\n",
        "\n",
        "  rows = 1\n",
        "  columns = 2\n",
        "\n",
        "  fig.add_subplot(rows, columns, 1)\n",
        "  plt.imshow(final_results[image_number][0], cmap='gray')\n",
        "  plt.axis('off')\n",
        "  plt.title(f'Original Image \\n prediction: {final_results[image_number][2]}')\n",
        "\n",
        "  fig.add_subplot(rows, columns, 2)\n",
        "  plt.imshow(final_results[image_number][1], cmap='gray')\n",
        "  plt.axis('off')\n",
        "  plt.title(f'Adversarial Image \\n Prediction: {final_results[image_number][3]}')\n"
      ]
    },
    {
      "cell_type": "code",
      "execution_count": 105,
      "metadata": {
        "colab": {
          "base_uri": "https://localhost:8080/",
          "height": 431
        },
        "id": "oWaM_0iNtoqP",
        "outputId": "795e317d-1e99-46ec-94b7-a9d94df4a8ec"
      },
      "outputs": [
        {
          "data": {
            "image/png": "[encoded data removed]",
            "text/plain": [
              "<Figure size 1000x1000 with 2 Axes>"
            ]
          },
          "metadata": {},
          "output_type": "display_data"
        }
      ],
      "source": [
        "plot_cw_attacks(cw_.index(min(cw_)))"
      ]
    },
    {
      "cell_type": "code",
      "execution_count": 106,
      "metadata": {
        "colab": {
          "base_uri": "https://localhost:8080/",
          "height": 431
        },
        "id": "jHOqdzs5tolu",
        "outputId": "b97b6029-07e7-43eb-a214-0aaa0549a9c2"
      },
      "outputs": [
        {
          "data": {
            "image/png": "[encoded data removed]",
            "text/plain": [
              "<Figure size 1000x1000 with 2 Axes>"
            ]
          },
          "metadata": {},
          "output_type": "display_data"
        }
      ],
      "source": [
        "plot_cw_attacks(cw_.index(max(cw_)))"
      ]
    },
    {
      "cell_type": "code",
      "execution_count": 2,
      "metadata": {
        "id": "aL2SW130vHx9"
      },
      "outputs": [
        {
          "ename": "NameError",
          "evalue": "name 'plot_cw_attacks' is not defined",
          "output_type": "error",
          "traceback": [
            "\u001b[0;31m---------------------------------------------------------------------------\u001b[0m",
            "\u001b[0;31mNameError\u001b[0m                                 Traceback (most recent call last)",
            "Cell \u001b[0;32mIn[2], line 1\u001b[0m\n\u001b[0;32m----> 1\u001b[0m plot_cw_attacks(\u001b[39m2\u001b[39m)\n",
            "\u001b[0;31mNameError\u001b[0m: name 'plot_cw_attacks' is not defined"
          ]
        }
      ],
      "source": [
        "plot_cw_attacks(2)"
      ]
    },
    {
      "cell_type": "code",
      "execution_count": null,
      "metadata": {
        "id": "TbWLqVbMvHQ5"
      },
      "outputs": [],
      "source": []
    },
    {
      "cell_type": "code",
      "execution_count": null,
      "metadata": {
        "id": "riPoC7w8n72u"
      },
      "outputs": [],
      "source": []
    },
    {
      "cell_type": "code",
      "execution_count": null,
      "metadata": {
        "id": "0AZs2bNZZwvD"
      },
      "outputs": [],
      "source": []
    },
    {
      "cell_type": "code",
      "execution_count": null,
      "metadata": {
        "id": "RfRKzqA0Zwr8"
      },
      "outputs": [],
      "source": []
    }
  ],
  "metadata": {
    "colab": {
      "provenance": []
    },
    "kernelspec": {
      "display_name": "Python 3",
      "name": "python3"
    },
    "language_info": {
      "codemirror_mode": {
        "name": "ipython",
        "version": 3
      },
      "file_extension": ".py",
      "mimetype": "text/x-python",
      "name": "python",
      "nbconvert_exporter": "python",
      "pygments_lexer": "ipython3",
      "version": "3.11.5"
    }
  },
  "nbformat": 4,
  "nbformat_minor": 0
}
